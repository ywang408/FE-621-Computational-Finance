{
 "cells": [
  {
   "cell_type": "code",
   "execution_count": 23,
   "metadata": {},
   "outputs": [],
   "source": [
    "import pandas as pd\n",
    "import numpy as np\n",
    "import matplotlib.pyplot as plt\n",
    "import yfinance as yf\n",
    "from implied_vol import *\n",
    "from finite_diff_methods import *"
   ]
  },
  {
   "cell_type": "code",
   "execution_count": 2,
   "metadata": {},
   "outputs": [],
   "source": [
    "call = pd.read_pickle(\"./datasets/call.pkl\")\n",
    "put = pd.read_pickle(\"./datasets/put.pkl\")\n",
    "equity_data = pd.read_pickle(\"./datasets/equity.pkl\")"
   ]
  },
  {
   "cell_type": "code",
   "execution_count": 3,
   "metadata": {},
   "outputs": [],
   "source": [
    "# clean\n",
    "expiry = ['2021-04-16', '2021-05-21', '2021-06-18']\n",
    "def clean(data):\n",
    "    new_data = []\n",
    "    for df,date in zip(data, expiry):\n",
    "        df['expiry'] = pd.to_datetime(date)\n",
    "        df['t2m'] = (df['expiry'] - pd.Timestamp('today')) / np.timedelta64(1, 'Y')\n",
    "        df['s0'] = equity_data.iloc[0,3]\n",
    "        df['market_price'] = df.bid/2 + df.ask/2\n",
    "        # choose by volume\n",
    "        df = df.sort_values(by='volume', ascending=False)\n",
    "        new_df = df.iloc[0:10].reset_index()\n",
    "        del new_df['index']\n",
    "        new_data.append(new_df)\n",
    "    return new_data\n",
    "call = clean(call)\n",
    "put = clean(put)"
   ]
  },
  {
   "cell_type": "code",
   "execution_count": 4,
   "metadata": {},
   "outputs": [],
   "source": [
    "# get vol\n",
    "r = 0.07/100\n",
    "for df in call:\n",
    "    df['type'] = 'c'\n",
    "    df['vol'] = df.apply(lambda x:\n",
    "                         get_impliedVol('c', x.s0, x.strike, x.t2m, r, x.market_price),axis=1)\n",
    "\n",
    "for df in put:\n",
    "    df['type'] = 'p'\n",
    "    df['vol'] = df.apply(lambda x:\n",
    "                         get_impliedVol('p', x.s0, x.strike, x.t2m, r, x.market_price),axis=1)"
   ]
  },
  {
   "cell_type": "code",
   "execution_count": 5,
   "metadata": {},
   "outputs": [],
   "source": [
    "epsilon = 0.0005"
   ]
  },
  {
   "cell_type": "code",
   "execution_count": 6,
   "metadata": {},
   "outputs": [],
   "source": [
    "def fd_price(x, epsilon, method):\n",
    "    dt = epsilon / (3 * x.vol ** 2 + 1)\n",
    "    dx = x.vol * np.sqrt(3 * dt)\n",
    "    N = int(np.ceil(x.t2m / dt))\n",
    "    Nj = int(np.ceil((2 * np.sqrt(3 * N) - 1) / 2))\n",
    "    return method(x.s0, x.strike, x.t2m, r, x.vol, 0, N, Nj, dx, x.type, 'e')"
   ]
  },
  {
   "cell_type": "code",
   "execution_count": 7,
   "metadata": {},
   "outputs": [],
   "source": [
    "for df1,df2 in zip(call, put):\n",
    "    df1['EFD'] = df1.apply(lambda x: \n",
    "                           fd_price(x, epsilon, e_fdm),axis=1)\n",
    "    df1['IFD'] = df1.apply(lambda x:\n",
    "                           fd_price(x, epsilon, i_fdm),axis=1)\n",
    "    df1['CNFD'] = df1.apply(lambda x:\n",
    "                            fd_price(x, epsilon, cn_fdm),axis=1)\n",
    "    df2['EFD'] = df2.apply(lambda x:\n",
    "                           fd_price(x, epsilon, e_fdm),axis=1)\n",
    "    df2['IFD'] = df2.apply(lambda x:\n",
    "                           fd_price(x, epsilon, i_fdm),axis=1)\n",
    "    df2['CNFD'] = df2.apply(lambda x:\n",
    "                            fd_price(x, epsilon, cn_fdm),axis=1)"
   ]
  },
  {
   "cell_type": "code",
   "execution_count": 8,
   "metadata": {},
   "outputs": [],
   "source": [
    "def get_greeks(x):\n",
    "    dt = epsilon / (3 * x.vol ** 2 + 1)\n",
    "    dx = x.vol * np.sqrt(3 * dt)\n",
    "    N = int(np.ceil(x.t2m / dt))\n",
    "    Nj = int(np.ceil((2 * np.sqrt(3 * N) - 1) / 2))\n",
    "    delta,gamma = delta_gamma(x.s0, x.strike, x.t2m, r, x.vol, 0, N, Nj, dx, x.type)\n",
    "    vega_ = vega(x.s0, x.strike, x.t2m, r, x.vol, 0, N, Nj, dx, x.type)\n",
    "    theta_ = theta(x.s0, x.strike, x.t2m, r, x.vol, 0, N, Nj, dx, x.type)\n",
    "    return delta, gamma, vega_, theta_"
   ]
  },
  {
   "cell_type": "code",
   "execution_count": 9,
   "metadata": {},
   "outputs": [],
   "source": [
    "for df1,df2 in zip(call, put):\n",
    "    df1[['delta', 'gamma', 'vega', 'theta']] = \\\n",
    "    df1.apply(get_greeks,axis=1, result_type=\"expand\")\n",
    "    df2[['delta', 'gamma', 'vega', 'theta']] = \\\n",
    "    df2.apply(get_greeks,axis=1, result_type=\"expand\")"
   ]
  },
  {
   "cell_type": "code",
   "execution_count": 14,
   "metadata": {},
   "outputs": [],
   "source": [
    "# save to csv\n",
    "for df1,df2 in zip(call, put):\n",
    "    path1 = './p2_csv/' + df1.iloc[0,0][0:10] + '.csv'\n",
    "    path2 = './p2_csv/' + df2.iloc[0,0][0:10] + '.csv'\n",
    "    df1.to_csv(path1, index=False)\n",
    "    df2.to_csv(path2, index=False)"
   ]
  },
  {
   "cell_type": "code",
   "execution_count": 28,
   "metadata": {},
   "outputs": [],
   "source": [
    "info = ['t2m', 'strike', 'type', 'ask', 'bid',\n",
    "       'market_price', 'vol', 'EFD', 'IFD', 'CNFD']\n",
    "data1 = call[1][info].round(4)\n",
    "data2 = put[1][info].round(4)\n",
    "data1 = data1.sort_values(by='market_price', ascending=False)\n",
    "data2 = data2.sort_values(by='market_price', ascending=False)\n",
    "data1.to_csv('./p2_csv/d_res1.csv', index=False)\n",
    "data2.to_csv('./p2_csv/d_res2.csv', index=False)"
   ]
  },
  {
   "cell_type": "code",
   "execution_count": 35,
   "metadata": {},
   "outputs": [
    {
     "data": {
      "text/plain": [
       "[<matplotlib.lines.Line2D at 0x7fe775e3f640>]"
      ]
     },
     "execution_count": 35,
     "metadata": {},
     "output_type": "execute_result"
    },
    {
     "data": {
      "image/png": "[encoded data removed]",
      "text/plain": [
       "<Figure size 432x288 with 1 Axes>"
      ]
     },
     "metadata": {
      "needs_background": "light"
     },
     "output_type": "display_data"
    }
   ],
   "source": [
    "plt.plot(data1.strike, data1.EFD)\n",
    "plt.plot(data1.strike, data1.IFD)\n",
    "plt.plot(data1.strike, data1.CNFD)\n",
    "plt.plot(data1.strike, data1.ask)\n",
    "plt.plot(data1.strike, data1.bid)\n",
    "plt.plot(data1.strike, data1.market_price)"
   ]
  },
  {
   "cell_type": "code",
   "execution_count": 34,
   "metadata": {},
   "outputs": [
    {
     "data": {
      "text/plain": [
       "[<matplotlib.lines.Line2D at 0x7fe775cfef70>]"
      ]
     },
     "execution_count": 34,
     "metadata": {},
     "output_type": "execute_result"
    },
    {
     "data": {
      "image/png": "[encoded data removed]",
      "text/plain": [
       "<Figure size 432x288 with 1 Axes>"
      ]
     },
     "metadata": {
      "needs_background": "light"
     },
     "output_type": "display_data"
    }
   ],
   "source": []
  },
  {
   "cell_type": "code",
   "execution_count": null,
   "metadata": {},
   "outputs": [],
   "source": []
  }
 ],
 "metadata": {
  "kernelspec": {
   "display_name": "Python 3",
   "language": "python",
   "name": "python3"
  },
  "language_info": {
   "codemirror_mode": {
    "name": "ipython",
    "version": 3
   },
   "file_extension": ".py",
   "mimetype": "text/x-python",
   "name": "python",
   "nbconvert_exporter": "python",
   "pygments_lexer": "ipython3",
   "version": "3.8.3"
  }
 },
 "nbformat": 4,
 "nbformat_minor": 5
}
