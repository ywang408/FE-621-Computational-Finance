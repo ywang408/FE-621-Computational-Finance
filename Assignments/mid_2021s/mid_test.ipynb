{
 "cells": [
  {
   "cell_type": "code",
   "execution_count": 1,
   "metadata": {},
   "outputs": [],
   "source": [
    "import numpy as np"
   ]
  },
  {
   "cell_type": "code",
   "execution_count": 2,
   "metadata": {},
   "outputs": [],
   "source": [
    "S = 50\n",
    "K = 49\n",
    "r = 0.05\n",
    "sigma = 0.3\n",
    "T = 0.75\n",
    "N = 3"
   ]
  },
  {
   "cell_type": "code",
   "execution_count": 3,
   "metadata": {},
   "outputs": [
    {
     "name": "stdout",
     "output_type": "stream",
     "text": [
      "1.161834242728283 0.8607079764250578\n"
     ]
    }
   ],
   "source": [
    "dt = T/N\n",
    "a = np.exp(r * dt)\n",
    "u = np.exp(sigma * np.sqrt(dt))\n",
    "print(u, 1/u)"
   ]
  },
  {
   "cell_type": "code",
   "execution_count": 4,
   "metadata": {},
   "outputs": [
    {
     "name": "stdout",
     "output_type": "stream",
     "text": [
      "-0.3597137683918111\n"
     ]
    }
   ],
   "source": [
    "d = np.exp(-r * dt)\n",
    "print(d * (1.5 -7)/(58.1 - 43))"
   ]
  },
  {
   "cell_type": "code",
   "execution_count": 5,
   "metadata": {},
   "outputs": [
    {
     "name": "stdout",
     "output_type": "stream",
     "text": [
      "-0.3924150200637939\n"
     ]
    }
   ],
   "source": [
    "print(d * (1.5 -7.5)/(58.1 - 43))"
   ]
  },
  {
   "cell_type": "code",
   "execution_count": null,
   "metadata": {},
   "outputs": [],
   "source": []
  }
 ],
 "metadata": {
  "kernelspec": {
   "display_name": "Python 3",
   "language": "python",
   "name": "python3"
  },
  "language_info": {
   "codemirror_mode": {
    "name": "ipython",
    "version": 3
   },
   "file_extension": ".py",
   "mimetype": "text/x-python",
   "name": "python",
   "nbconvert_exporter": "python",
   "pygments_lexer": "ipython3",
   "version": "3.8.3"
  }
 },
 "nbformat": 4,
 "nbformat_minor": 4
}
