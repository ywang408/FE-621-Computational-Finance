{
 "cells": [
  {
   "cell_type": "code",
   "execution_count": 22,
   "metadata": {
    "collapsed": true
   },
   "outputs": [],
   "source": [
    "import yfinance as yf\n",
    "import pandas as pd\n",
    "from datetime import datetime"
   ]
  },
  {
   "cell_type": "code",
   "execution_count": 26,
   "outputs": [
    {
     "name": "stdout",
     "output_type": "stream",
     "text": [
      "[*********************100%***********************]  1 of 1 completed\n",
      "[*********************100%***********************]  3 of 3 completed\n",
      "[*********************100%***********************]  1 of 1 completed\n"
     ]
    },
    {
     "data": {
      "text/plain": "                  Open        High         Low       Close   Adj Close  \\\nDate                                                                     \n2007-01-03   38.680000   39.060001   38.049999   38.700001   38.700001   \n2007-01-04   38.590000   39.139999   38.259998   38.900002   38.900002   \n2007-01-05   38.720001   38.790001   37.599998   38.369999   38.369999   \n2007-01-08   38.220001   38.310001   37.169998   37.500000   37.500000   \n2007-01-09   37.599998   38.060001   37.340000   37.779999   37.779999   \n...                ...         ...         ...         ...         ...   \n2016-10-13  829.000000  831.799988  821.210022  829.280029  829.280029   \n2016-10-14  835.080017  835.739990  822.960022  822.960022  822.960022   \n2016-10-17  821.500000  822.000000  811.679993  812.950012  812.950012   \n2016-10-18  822.109985  823.260010  815.020020  817.650024  817.650024   \n2016-10-19  820.400024  820.669983  815.169983  817.690002  817.690002   \n\n              Volume  \nDate                  \n2007-01-03  12405100  \n2007-01-04   6318400  \n2007-01-05   6619700  \n2007-01-08   6783000  \n2007-01-09   5703000  \n...              ...  \n2016-10-13   3091400  \n2016-10-14   2999800  \n2016-10-17   3361500  \n2016-10-18   2512500  \n2016-10-19   2090700  \n\n[2468 rows x 6 columns]",
      "text/html": "<div>\n<style scoped>\n    .dataframe tbody tr th:only-of-type {\n        vertical-align: middle;\n    }\n\n    .dataframe tbody tr th {\n        vertical-align: top;\n    }\n\n    .dataframe thead th {\n        text-align: right;\n    }\n</style>\n<table border=\"1\" class=\"dataframe\">\n  <thead>\n    <tr style=\"text-align: right;\">\n      <th></th>\n      <th>Open</th>\n      <th>High</th>\n      <th>Low</th>\n      <th>Close</th>\n      <th>Adj Close</th>\n      <th>Volume</th>\n    </tr>\n    <tr>\n      <th>Date</th>\n      <th></th>\n      <th></th>\n      <th></th>\n      <th></th>\n      <th></th>\n      <th></th>\n    </tr>\n  </thead>\n  <tbody>\n    <tr>\n      <th>2007-01-03</th>\n      <td>38.680000</td>\n      <td>39.060001</td>\n      <td>38.049999</td>\n      <td>38.700001</td>\n      <td>38.700001</td>\n      <td>12405100</td>\n    </tr>\n    <tr>\n      <th>2007-01-04</th>\n      <td>38.590000</td>\n      <td>39.139999</td>\n      <td>38.259998</td>\n      <td>38.900002</td>\n      <td>38.900002</td>\n      <td>6318400</td>\n    </tr>\n    <tr>\n      <th>2007-01-05</th>\n      <td>38.720001</td>\n      <td>38.790001</td>\n      <td>37.599998</td>\n      <td>38.369999</td>\n      <td>38.369999</td>\n      <td>6619700</td>\n    </tr>\n    <tr>\n      <th>2007-01-08</th>\n      <td>38.220001</td>\n      <td>38.310001</td>\n      <td>37.169998</td>\n      <td>37.500000</td>\n      <td>37.500000</td>\n      <td>6783000</td>\n    </tr>\n    <tr>\n      <th>2007-01-09</th>\n      <td>37.599998</td>\n      <td>38.060001</td>\n      <td>37.340000</td>\n      <td>37.779999</td>\n      <td>37.779999</td>\n      <td>5703000</td>\n    </tr>\n    <tr>\n      <th>...</th>\n      <td>...</td>\n      <td>...</td>\n      <td>...</td>\n      <td>...</td>\n      <td>...</td>\n      <td>...</td>\n    </tr>\n    <tr>\n      <th>2016-10-13</th>\n      <td>829.000000</td>\n      <td>831.799988</td>\n      <td>821.210022</td>\n      <td>829.280029</td>\n      <td>829.280029</td>\n      <td>3091400</td>\n    </tr>\n    <tr>\n      <th>2016-10-14</th>\n      <td>835.080017</td>\n      <td>835.739990</td>\n      <td>822.960022</td>\n      <td>822.960022</td>\n      <td>822.960022</td>\n      <td>2999800</td>\n    </tr>\n    <tr>\n      <th>2016-10-17</th>\n      <td>821.500000</td>\n      <td>822.000000</td>\n      <td>811.679993</td>\n      <td>812.950012</td>\n      <td>812.950012</td>\n      <td>3361500</td>\n    </tr>\n    <tr>\n      <th>2016-10-18</th>\n      <td>822.109985</td>\n      <td>823.260010</td>\n      <td>815.020020</td>\n      <td>817.650024</td>\n      <td>817.650024</td>\n      <td>2512500</td>\n    </tr>\n    <tr>\n      <th>2016-10-19</th>\n      <td>820.400024</td>\n      <td>820.669983</td>\n      <td>815.169983</td>\n      <td>817.690002</td>\n      <td>817.690002</td>\n      <td>2090700</td>\n    </tr>\n  </tbody>\n</table>\n<p>2468 rows × 6 columns</p>\n</div>"
     },
     "execution_count": 26,
     "metadata": {},
     "output_type": "execute_result"
    }
   ],
   "source": [],
   "metadata": {
    "collapsed": false,
    "pycharm": {
     "name": "#%%\n"
    }
   }
  }
 ],
 "metadata": {
  "kernelspec": {
   "display_name": "Python 3",
   "language": "python",
   "name": "python3"
  },
  "language_info": {
   "codemirror_mode": {
    "name": "ipython",
    "version": 2
   },
   "file_extension": ".py",
   "mimetype": "text/x-python",
   "name": "python",
   "nbconvert_exporter": "python",
   "pygments_lexer": "ipython2",
   "version": "2.7.6"
  }
 },
 "nbformat": 4,
 "nbformat_minor": 0
}