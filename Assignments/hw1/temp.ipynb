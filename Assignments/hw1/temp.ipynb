{
 "cells": [
  {
   "cell_type": "markdown",
   "metadata": {},
   "source": [
    "# Part 1"
   ]
  },
  {
   "cell_type": "code",
   "execution_count": 2,
   "metadata": {},
   "outputs": [],
   "source": [
    "import numpy as np\n",
    "import pandas as pd\n",
    "import yfinance as yf\n",
    "from datetime import datetime\n",
    "from scipy.stats import norm\n",
    "import matplotlib.pyplot as plt"
   ]
  },
  {
   "cell_type": "markdown",
   "metadata": {},
   "source": [
    "## 2."
   ]
  },
  {
   "cell_type": "code",
   "execution_count": 3,
   "metadata": {},
   "outputs": [],
   "source": [
    "# read data\n",
    "amzn1 = pd.read_pickle(\"./amzn1.pkl\")\n",
    "amzn2 = pd.read_pickle(\"./amzn2.pkl\")\n",
    "\n",
    "spy1 = pd.read_pickle(\"./spy1.pkl\")\n",
    "spy2 = pd.read_pickle(\"./spy2.pkl\")\n",
    "\n",
    "vix1 = pd.read_pickle(\"./vix1.pkl\")\n",
    "vix2 = pd.read_pickle(\"./vix2.pkl\")\n",
    "\n",
    "\n",
    "# discard useless data\n",
    "def clean_data(ticker, data):\n",
    "    del data[0]\n",
    "    del data[0]\n",
    "    temp = yf.Ticker(ticker)\n",
    "    expiry = pd.Series(temp.options)\n",
    "    expiry = pd.to_datetime(expiry)\n",
    "    expiry = expiry - pd.Timestamp('today') < pd.Timedelta('80d')\n",
    "    kept = len(expiry[expiry].index.values)\n",
    "    newdata = data[0:kept]\n",
    "    # add new columns of option type and expiry date\n",
    "    def findType(s):\n",
    "        if 'C' in s.replace(ticker, ''):\n",
    "            return 'c'\n",
    "        else:\n",
    "            return 'p'\n",
    "    def findDate(s):\n",
    "        if 'VIXW' in s:\n",
    "            return '20'+ s.replace('VIXW', '')[0:6]\n",
    "        elif 'VIX' in s:\n",
    "            return '20' + s.replace('VIX', '')[0:6]\n",
    "        else:\n",
    "            return '20' + s.replace(ticker, '')[0:6]\n",
    "    for df in newdata:\n",
    "        df['type'] = df['contractSymbol'].map(findType)\n",
    "        df['expiry'] = df['contractSymbol'].map(findDate)\n",
    "        df['expiry'] = pd.to_datetime(df['expiry'], infer_datetime_format=True)\n",
    "        df['delta_t'] = (df['expiry'] - pd.Timestamp('today')) / np.timedelta64(1, 'Y')\n",
    "    return newdata\n",
    "\n",
    "\n",
    "amzn1 = clean_data(\"AMZN\", amzn1)\n",
    "amzn2 = clean_data(\"AMZN\", amzn2)\n",
    "\n",
    "spy1 = clean_data(\"SPY\", spy1)\n",
    "spy2 = clean_data(\"SPY\", spy2)\n",
    "\n",
    "vix1 = clean_data(\"^VIX\", vix1)\n",
    "vix2 = clean_data(\"^VIX\", vix2)\n",
    "\n",
    "DATA1 = [amzn1, spy1, vix1]\n",
    "DATA2 = [amzn2, spy2, vix2]"
   ]
  },
  {
   "cell_type": "code",
   "execution_count": 4,
   "metadata": {},
   "outputs": [],
   "source": [
    "def bisection(f, a, b):\n",
    "    while abs(a - b) >= 1e-6:\n",
    "        c = (a + b) / 2\n",
    "        if f(c) == 0:\n",
    "            break\n",
    "        if f(a) * f(c) < 0:\n",
    "            b = c\n",
    "        else:\n",
    "            a = c\n",
    "    return c\n",
    "\n",
    "\n",
    "def BS_formula(Type, S, K, T, sigma, r):\n",
    "    d1 = (np.log(S / K) + (r + sigma ** 2 / 2) * T) / (sigma * np.sqrt(T))\n",
    "    d2 = d1 - sigma * np.sqrt(T)\n",
    "    if Type == 'c':\n",
    "        return norm.cdf(d1) * S - norm.cdf(d2) * K * np.exp(-r * T)\n",
    "    elif Type == 'p':\n",
    "        return K * np.exp(-r * T) * norm.cdf(-d2) - norm.cdf(-d1) * S\n",
    "    else:\n",
    "        raise TypeError(\"Type must be 'c' for call, 'p' for put\")\n",
    "\n",
    "        \n",
    "def vega(S, K, T, sigma, r):\n",
    "    d1 = (np.log(S/K) + (r+0.5*sigma**2)*T)/(sigma*np.sqrt(T))\n",
    "    return np.sqrt(T)*S*norm.pdf(d1)\n",
    "    \n",
    "    \n",
    "def newton_method(f, f_prime, x0, tol=1e-6, N=100):\n",
    "    for i in range(N):\n",
    "        x1 = x0 - f(x0)/f_prime(x0)\n",
    "        if abs(x1- x0) < tol:\n",
    "            break\n",
    "        x0 = x1\n",
    "    return x1\n",
    "\n",
    "\n",
    "def get_impliedVol(Type, S, K, T, r, P, method):\n",
    "    def price_diff(sigma):\n",
    "        return BS_formula(Type, S, K, T, sigma, r) - P\n",
    "    if method == 'b':\n",
    "        return bisection(price_diff, 0.001, 1)\n",
    "    elif method == 'n':\n",
    "        price_diff_prime = lambda x: vega(S, K, T, x, r)\n",
    "        return newton_method(price_diff, price_diff_prime, 0.5)"
   ]
  },
  {
   "cell_type": "code",
   "execution_count": 5,
   "metadata": {},
   "outputs": [],
   "source": [
    "for i in range(3):\n",
    "    for df in DATA1[i]:\n",
    "        df['optionPrice'] = df['bid']/2 + df['ask']/2"
   ]
  },
  {
   "cell_type": "code",
   "execution_count": 6,
   "metadata": {},
   "outputs": [
    {
     "name": "stderr",
     "output_type": "stream",
     "text": [
      "<ipython-input-4-f49d1676a7fe>:14: RuntimeWarning: invalid value encountered in sqrt\n",
      "  d1 = (np.log(S / K) + (r + sigma ** 2 / 2) * T) / (sigma * np.sqrt(T))\n",
      "<ipython-input-4-f49d1676a7fe>:15: RuntimeWarning: invalid value encountered in sqrt\n",
      "  d2 = d1 - sigma * np.sqrt(T)\n"
     ]
    },
    {
     "name": "stdout",
     "output_type": "stream",
     "text": [
      "It takes 45.809111 seconds\n"
     ]
    }
   ],
   "source": [
    "r = 0.07/100\n",
    "now = pd.Timestamp.now()\n",
    "for i in range(2):\n",
    "    for df in DATA1[i]:\n",
    "        df['bisec_Root'] = df.apply(lambda x: get_impliedVol(x.type, x.spotPrice, x.strike,\n",
    "                                                             x.delta_t, r, x.optionPrice, 'b'), axis=1)\n",
    "end = pd.Timestamp.now()\n",
    "bisec_time = (end - now) / np.timedelta64(1, 's')\n",
    "print(\"It takes {} seconds\".format(bisec_time))"
   ]
  },
  {
   "cell_type": "code",
   "execution_count": 7,
   "metadata": {},
   "outputs": [],
   "source": [
    "#         df['newton_Root'] = df.apply(lambda x: get_impliedVol(x.type, x.spotPrice, x.strike,\n",
    "#                                                              x.delta_t, r, x.optionPrice, 'n'), axis=1)"
   ]
  },
  {
   "cell_type": "code",
   "execution_count": 8,
   "metadata": {},
   "outputs": [],
   "source": [
    "def moneyness(S, K):\n",
    "    if S/K < 0.95:\n",
    "        return 'inTheMoney'\n",
    "    elif S/K > 1.05:\n",
    "        return 'outTheMoney'\n",
    "    else:\n",
    "        return 'atTheMoney'\n",
    "for i in range(3):\n",
    "    for df in DATA1[i]:\n",
    "        df['moneyness'] = df.apply(lambda x: moneyness(x.spotPrice, x.strike), axis=1)"
   ]
  },
  {
   "cell_type": "code",
   "execution_count": 9,
   "metadata": {},
   "outputs": [],
   "source": [
    "temp = DATA1[1][7]\n",
    "# temp[temp['moneyness'] == 'atTheMoney'][info]"
   ]
  },
  {
   "cell_type": "code",
   "execution_count": 11,
   "metadata": {},
   "outputs": [
    {
     "data": {
      "text/plain": [
       "Timestamp('2021-03-19 00:00:00')"
      ]
     },
     "execution_count": 11,
     "metadata": {},
     "output_type": "execute_result"
    }
   ],
   "source": [
    "temp['expiry'].iloc[0]"
   ]
  },
  {
   "cell_type": "code",
   "execution_count": 12,
   "metadata": {},
   "outputs": [],
   "source": [
    "expiry_date = []\n",
    "in_mean = []\n",
    "out_mean = []\n",
    "at_mean = []\n",
    "for df in DATA1[0]:\n",
    "    expiry_date.append(df.expiry.iloc[0])\n",
    "    temp = df[df.moneyness == 'atTheMoney']['bisec_Root'].mean()\n",
    "    at_mean.append(temp)\n",
    "    temp = df[df.moneyness == 'inTheMoney']['bisec_Root'].mean()\n",
    "    in_mean.append(temp)\n",
    "    temp = df[df.moneyness == 'outTheMoney']['bisec_Root'].mean()\n",
    "    out_mean.append(temp)"
   ]
  },
  {
   "cell_type": "code",
   "execution_count": 13,
   "metadata": {},
   "outputs": [],
   "source": [
    "amzn_mean = pd.DataFrame({'expiry': expiry_date, 'at-the-money': at_mean,\n",
    "                         'out-of-the-money': out_mean, 'in-the-money': in_mean})"
   ]
  },
  {
   "cell_type": "code",
   "execution_count": 14,
   "metadata": {},
   "outputs": [
    {
     "data": {
      "text/html": [
       "<div>\n",
       "<style scoped>\n",
       "    .dataframe tbody tr th:only-of-type {\n",
       "        vertical-align: middle;\n",
       "    }\n",
       "\n",
       "    .dataframe tbody tr th {\n",
       "        vertical-align: top;\n",
       "    }\n",
       "\n",
       "    .dataframe thead th {\n",
       "        text-align: right;\n",
       "    }\n",
       "</style>\n",
       "<table border=\"1\" class=\"dataframe\">\n",
       "  <thead>\n",
       "    <tr style=\"text-align: right;\">\n",
       "      <th></th>\n",
       "      <th>expiry</th>\n",
       "      <th>at-the-money</th>\n",
       "      <th>out-of-the-money</th>\n",
       "      <th>in-the-money</th>\n",
       "    </tr>\n",
       "  </thead>\n",
       "  <tbody>\n",
       "    <tr>\n",
       "      <th>0</th>\n",
       "      <td>2021-03-12</td>\n",
       "      <td>0.325348</td>\n",
       "      <td>0.606417</td>\n",
       "      <td>0.406553</td>\n",
       "    </tr>\n",
       "    <tr>\n",
       "      <th>1</th>\n",
       "      <td>2021-03-19</td>\n",
       "      <td>0.327848</td>\n",
       "      <td>0.737017</td>\n",
       "      <td>0.474771</td>\n",
       "    </tr>\n",
       "    <tr>\n",
       "      <th>2</th>\n",
       "      <td>2021-03-26</td>\n",
       "      <td>0.318547</td>\n",
       "      <td>0.446502</td>\n",
       "      <td>0.370127</td>\n",
       "    </tr>\n",
       "    <tr>\n",
       "      <th>3</th>\n",
       "      <td>2021-04-01</td>\n",
       "      <td>0.310438</td>\n",
       "      <td>0.429214</td>\n",
       "      <td>0.309328</td>\n",
       "    </tr>\n",
       "    <tr>\n",
       "      <th>4</th>\n",
       "      <td>2021-04-16</td>\n",
       "      <td>0.312323</td>\n",
       "      <td>0.656261</td>\n",
       "      <td>0.414213</td>\n",
       "    </tr>\n",
       "    <tr>\n",
       "      <th>5</th>\n",
       "      <td>2021-05-21</td>\n",
       "      <td>0.347691</td>\n",
       "      <td>0.502472</td>\n",
       "      <td>0.351611</td>\n",
       "    </tr>\n",
       "  </tbody>\n",
       "</table>\n",
       "</div>"
      ],
      "text/plain": [
       "      expiry  at-the-money  out-of-the-money  in-the-money\n",
       "0 2021-03-12      0.325348          0.606417      0.406553\n",
       "1 2021-03-19      0.327848          0.737017      0.474771\n",
       "2 2021-03-26      0.318547          0.446502      0.370127\n",
       "3 2021-04-01      0.310438          0.429214      0.309328\n",
       "4 2021-04-16      0.312323          0.656261      0.414213\n",
       "5 2021-05-21      0.347691          0.502472      0.351611"
      ]
     },
     "execution_count": 14,
     "metadata": {},
     "output_type": "execute_result"
    }
   ],
   "source": [
    "amzn_mean"
   ]
  },
  {
   "cell_type": "code",
   "execution_count": 15,
   "metadata": {},
   "outputs": [],
   "source": [
    "# spy\n",
    "expiry_date = []\n",
    "in_mean = []\n",
    "out_mean = []\n",
    "at_mean = []\n",
    "for df in DATA1[1]:\n",
    "    expiry_date.append(df.expiry.iloc[0])\n",
    "    temp = df[df.moneyness == 'atTheMoney']['bisec_Root'].mean()\n",
    "    at_mean.append(temp)\n",
    "    temp = df[df.moneyness == 'inTheMoney']['bisec_Root'].mean()\n",
    "    in_mean.append(temp)\n",
    "    temp = df[df.moneyness == 'outTheMoney']['bisec_Root'].mean()\n",
    "    out_mean.append(temp)\n",
    "spy_mean = pd.DataFrame({'expiry': expiry_date, 'at-the-money': at_mean,\n",
    "                         'out-of-the-money': out_mean, 'in-the-money': in_mean})"
   ]
  },
  {
   "cell_type": "code",
   "execution_count": 283,
   "metadata": {},
   "outputs": [
    {
     "name": "stderr",
     "output_type": "stream",
     "text": [
      "<ipython-input-281-f49d1676a7fe>:31: RuntimeWarning: divide by zero encountered in double_scalars\n",
      "  x1 = x0 - f(x0)/f_prime(x0)\n",
      "<ipython-input-281-f49d1676a7fe>:14: RuntimeWarning: invalid value encountered in double_scalars\n",
      "  d1 = (np.log(S / K) + (r + sigma ** 2 / 2) * T) / (sigma * np.sqrt(T))\n",
      "<ipython-input-281-f49d1676a7fe>:25: RuntimeWarning: invalid value encountered in double_scalars\n",
      "  d1 = (np.log(S/K) + (r+0.5*sigma**2)*T)/(sigma*np.sqrt(T))\n",
      "<ipython-input-281-f49d1676a7fe>:14: RuntimeWarning: overflow encountered in double_scalars\n",
      "  d1 = (np.log(S / K) + (r + sigma ** 2 / 2) * T) / (sigma * np.sqrt(T))\n",
      "<ipython-input-281-f49d1676a7fe>:25: RuntimeWarning: overflow encountered in double_scalars\n",
      "  d1 = (np.log(S/K) + (r+0.5*sigma**2)*T)/(sigma*np.sqrt(T))\n",
      "<ipython-input-281-f49d1676a7fe>:31: RuntimeWarning: overflow encountered in double_scalars\n",
      "  x1 = x0 - f(x0)/f_prime(x0)\n"
     ]
    },
    {
     "name": "stdout",
     "output_type": "stream",
     "text": [
      "It takes 17.141328 seconds\n"
     ]
    }
   ],
   "source": [
    "now = pd.Timestamp.now()\n",
    "for i in range(2):\n",
    "    for df in DATA1[i]:\n",
    "        df['newton_Root'] = df.apply(lambda x: get_impliedVol(x.type, x.spotPrice, x.strike,\n",
    "                                                             x.delta_t, r, x.optionPrice, 'n'), axis=1)\n",
    "end = pd.Timestamp.now()\n",
    "newton_time = (end - now) / np.timedelta64(1, 's')\n",
    "print(\"It takes {} seconds\".format(newton_time))"
   ]
  },
  {
   "cell_type": "code",
   "execution_count": 284,
   "metadata": {},
   "outputs": [
    {
     "data": {
      "text/html": [
       "<div>\n",
       "<style scoped>\n",
       "    .dataframe tbody tr th:only-of-type {\n",
       "        vertical-align: middle;\n",
       "    }\n",
       "\n",
       "    .dataframe tbody tr th {\n",
       "        vertical-align: top;\n",
       "    }\n",
       "\n",
       "    .dataframe thead th {\n",
       "        text-align: right;\n",
       "    }\n",
       "</style>\n",
       "<table border=\"1\" class=\"dataframe\">\n",
       "  <thead>\n",
       "    <tr style=\"text-align: right;\">\n",
       "      <th></th>\n",
       "      <th>method</th>\n",
       "      <th>running time</th>\n",
       "    </tr>\n",
       "  </thead>\n",
       "  <tbody>\n",
       "    <tr>\n",
       "      <th>0</th>\n",
       "      <td>bisection method</td>\n",
       "      <td>45.847073</td>\n",
       "    </tr>\n",
       "    <tr>\n",
       "      <th>1</th>\n",
       "      <td>newton's method</td>\n",
       "      <td>17.141328</td>\n",
       "    </tr>\n",
       "  </tbody>\n",
       "</table>\n",
       "</div>"
      ],
      "text/plain": [
       "             method  running time\n",
       "0  bisection method     45.847073\n",
       "1   newton's method     17.141328"
      ]
     },
     "execution_count": 284,
     "metadata": {},
     "output_type": "execute_result"
    }
   ],
   "source": [
    "pd.DataFrame({'method': ['bisection method', \"newton's method\"],\n",
    "             'running time': [bisec_time, newton_time]})"
   ]
  },
  {
   "cell_type": "code",
   "execution_count": 20,
   "metadata": {},
   "outputs": [],
   "source": [
    "expiry_date = []\n",
    "call_vol = []\n",
    "put_vol = []\n",
    "for df in DATA1[0]:\n",
    "    expiry_date.append(df.expiry.iloc[0])\n",
    "    temp = df[df.type=='c']['bisec_Root'].mean()\n",
    "    call_vol.append(temp)\n",
    "    temp = df[df.type=='p']['bisec_Root'].mean()\n",
    "    put_vol.append(temp)\n",
    "amzn_vol = pd.DataFrame({'expiry': expiry_date, 'vol of call': call_vol,\n",
    "                         'vol of put': put_vol})"
   ]
  },
  {
   "cell_type": "code",
   "execution_count": 21,
   "metadata": {},
   "outputs": [],
   "source": [
    "expiry_date = []\n",
    "call_vol = []\n",
    "put_vol = []\n",
    "for df in DATA1[1]:\n",
    "    expiry_date.append(df.expiry.iloc[0])\n",
    "    temp = df[df.type=='c']['newton_Root'].mean()\n",
    "    call_vol.append(temp)\n",
    "    temp = df[df.type=='p']['newton_Root'].mean()\n",
    "    put_vol.append(temp)\n",
    "spy_vol = pd.DataFrame({'expiry': expiry_date, 'vol of call': call_vol,\n",
    "                         'vol of put': put_vol})"
   ]
  },
  {
   "cell_type": "code",
   "execution_count": 289,
   "metadata": {},
   "outputs": [
    {
     "data": {
      "text/plain": [
       "'2021-03-12'"
      ]
     },
     "execution_count": 289,
     "metadata": {},
     "output_type": "execute_result"
    }
   ],
   "source": [
    "vol_table = pd.concat([amzn_vol, spy_vol], keys=['AMZN', 'SPY'])\n",
    "str(vol_table['expiry'].iloc[0].date())"
   ]
  },
  {
   "cell_type": "code",
   "execution_count": 23,
   "metadata": {},
   "outputs": [],
   "source": [
    "temp = DATA1[1][5]\n",
    "temp = temp[temp.type == 'p']"
   ]
  },
  {
   "cell_type": "code",
   "execution_count": 24,
   "metadata": {},
   "outputs": [],
   "source": [
    "def parity(Type, S, K, T, r, P):\n",
    "    if Type == 'c':\n",
    "        return P - S + K * np.exp(-r*T)\n",
    "    elif Type == 'p':\n",
    "        return P + S - K * np.exp(-r*T)"
   ]
  },
  {
   "cell_type": "code",
   "execution_count": 25,
   "metadata": {},
   "outputs": [],
   "source": [
    "for i in range(2):\n",
    "    for df in DATA1[i]:\n",
    "        df['parity_price'] = df.apply(lambda x: parity(x.type, x.spotPrice, \n",
    "                                                      x.strike, x.delta_t, r, x.optionPrice),\n",
    "                                     axis=1)"
   ]
  },
  {
   "cell_type": "code",
   "execution_count": 26,
   "metadata": {},
   "outputs": [],
   "source": [
    "temp = DATA1[1][8]\n",
    "dup = temp['strike'].duplicated(keep=False)\n",
    "temp = temp[dup]\n",
    "temp = temp.sort_values(by='strike')\n",
    "info = ['strike', 'bid', 'ask', 'parity_price']"
   ]
  },
  {
   "cell_type": "code",
   "execution_count": 28,
   "metadata": {},
   "outputs": [],
   "source": [
    "temp_p = temp[temp.type=='p'][info]\n",
    "temp_c = temp[temp.type=='c'][info]"
   ]
  },
  {
   "cell_type": "code",
   "execution_count": 29,
   "metadata": {},
   "outputs": [
    {
     "data": {
      "text/html": [
       "<div>\n",
       "<style scoped>\n",
       "    .dataframe tbody tr th:only-of-type {\n",
       "        vertical-align: middle;\n",
       "    }\n",
       "\n",
       "    .dataframe tbody tr th {\n",
       "        vertical-align: top;\n",
       "    }\n",
       "\n",
       "    .dataframe thead th {\n",
       "        text-align: right;\n",
       "    }\n",
       "</style>\n",
       "<table border=\"1\" class=\"dataframe\">\n",
       "  <thead>\n",
       "    <tr style=\"text-align: right;\">\n",
       "      <th></th>\n",
       "      <th>strike</th>\n",
       "      <th>bid of put</th>\n",
       "      <th>ask of put</th>\n",
       "      <th>parity price by put</th>\n",
       "      <th>bid of call</th>\n",
       "      <th>ask of call</th>\n",
       "      <th>parity price by call</th>\n",
       "    </tr>\n",
       "  </thead>\n",
       "  <tbody>\n",
       "    <tr>\n",
       "      <th>0</th>\n",
       "      <td>350.0</td>\n",
       "      <td>0.97</td>\n",
       "      <td>1.00</td>\n",
       "      <td>42.769805</td>\n",
       "      <td>43.13</td>\n",
       "      <td>43.37</td>\n",
       "      <td>1.465195</td>\n",
       "    </tr>\n",
       "    <tr>\n",
       "      <th>1</th>\n",
       "      <td>360.0</td>\n",
       "      <td>1.50</td>\n",
       "      <td>1.54</td>\n",
       "      <td>33.305228</td>\n",
       "      <td>33.57</td>\n",
       "      <td>33.81</td>\n",
       "      <td>1.904772</td>\n",
       "    </tr>\n",
       "    <tr>\n",
       "      <th>2</th>\n",
       "      <td>370.0</td>\n",
       "      <td>2.35</td>\n",
       "      <td>2.40</td>\n",
       "      <td>24.160651</td>\n",
       "      <td>24.29</td>\n",
       "      <td>24.53</td>\n",
       "      <td>2.624349</td>\n",
       "    </tr>\n",
       "    <tr>\n",
       "      <th>3</th>\n",
       "      <td>375.0</td>\n",
       "      <td>2.95</td>\n",
       "      <td>3.00</td>\n",
       "      <td>19.760863</td>\n",
       "      <td>19.82</td>\n",
       "      <td>20.06</td>\n",
       "      <td>3.154137</td>\n",
       "    </tr>\n",
       "    <tr>\n",
       "      <th>4</th>\n",
       "      <td>380.0</td>\n",
       "      <td>3.74</td>\n",
       "      <td>3.79</td>\n",
       "      <td>15.551075</td>\n",
       "      <td>15.52</td>\n",
       "      <td>15.76</td>\n",
       "      <td>3.853925</td>\n",
       "    </tr>\n",
       "    <tr>\n",
       "      <th>5</th>\n",
       "      <td>385.0</td>\n",
       "      <td>4.78</td>\n",
       "      <td>4.84</td>\n",
       "      <td>11.596286</td>\n",
       "      <td>11.47</td>\n",
       "      <td>11.68</td>\n",
       "      <td>4.788714</td>\n",
       "    </tr>\n",
       "    <tr>\n",
       "      <th>6</th>\n",
       "      <td>390.0</td>\n",
       "      <td>6.25</td>\n",
       "      <td>6.32</td>\n",
       "      <td>8.071498</td>\n",
       "      <td>7.81</td>\n",
       "      <td>7.99</td>\n",
       "      <td>6.113502</td>\n",
       "    </tr>\n",
       "    <tr>\n",
       "      <th>7</th>\n",
       "      <td>395.0</td>\n",
       "      <td>8.33</td>\n",
       "      <td>8.46</td>\n",
       "      <td>5.181710</td>\n",
       "      <td>4.87</td>\n",
       "      <td>4.94</td>\n",
       "      <td>8.118290</td>\n",
       "    </tr>\n",
       "    <tr>\n",
       "      <th>8</th>\n",
       "      <td>400.0</td>\n",
       "      <td>11.25</td>\n",
       "      <td>11.47</td>\n",
       "      <td>3.146921</td>\n",
       "      <td>2.70</td>\n",
       "      <td>2.75</td>\n",
       "      <td>10.938079</td>\n",
       "    </tr>\n",
       "    <tr>\n",
       "      <th>9</th>\n",
       "      <td>410.0</td>\n",
       "      <td>19.33</td>\n",
       "      <td>19.57</td>\n",
       "      <td>1.237345</td>\n",
       "      <td>0.64</td>\n",
       "      <td>0.68</td>\n",
       "      <td>18.872655</td>\n",
       "    </tr>\n",
       "    <tr>\n",
       "      <th>10</th>\n",
       "      <td>415.0</td>\n",
       "      <td>24.02</td>\n",
       "      <td>24.31</td>\n",
       "      <td>0.952556</td>\n",
       "      <td>0.31</td>\n",
       "      <td>0.34</td>\n",
       "      <td>23.537444</td>\n",
       "    </tr>\n",
       "    <tr>\n",
       "      <th>11</th>\n",
       "      <td>425.0</td>\n",
       "      <td>33.82</td>\n",
       "      <td>34.11</td>\n",
       "      <td>0.752980</td>\n",
       "      <td>0.10</td>\n",
       "      <td>0.12</td>\n",
       "      <td>33.322020</td>\n",
       "    </tr>\n",
       "    <tr>\n",
       "      <th>12</th>\n",
       "      <td>430.0</td>\n",
       "      <td>38.78</td>\n",
       "      <td>39.07</td>\n",
       "      <td>0.713191</td>\n",
       "      <td>0.06</td>\n",
       "      <td>0.08</td>\n",
       "      <td>38.281809</td>\n",
       "    </tr>\n",
       "  </tbody>\n",
       "</table>\n",
       "</div>"
      ],
      "text/plain": [
       "    strike  bid of put  ask of put  parity price by put  bid of call  \\\n",
       "0    350.0        0.97        1.00            42.769805        43.13   \n",
       "1    360.0        1.50        1.54            33.305228        33.57   \n",
       "2    370.0        2.35        2.40            24.160651        24.29   \n",
       "3    375.0        2.95        3.00            19.760863        19.82   \n",
       "4    380.0        3.74        3.79            15.551075        15.52   \n",
       "5    385.0        4.78        4.84            11.596286        11.47   \n",
       "6    390.0        6.25        6.32             8.071498         7.81   \n",
       "7    395.0        8.33        8.46             5.181710         4.87   \n",
       "8    400.0       11.25       11.47             3.146921         2.70   \n",
       "9    410.0       19.33       19.57             1.237345         0.64   \n",
       "10   415.0       24.02       24.31             0.952556         0.31   \n",
       "11   425.0       33.82       34.11             0.752980         0.10   \n",
       "12   430.0       38.78       39.07             0.713191         0.06   \n",
       "\n",
       "    ask of call  parity price by call  \n",
       "0         43.37              1.465195  \n",
       "1         33.81              1.904772  \n",
       "2         24.53              2.624349  \n",
       "3         20.06              3.154137  \n",
       "4         15.76              3.853925  \n",
       "5         11.68              4.788714  \n",
       "6          7.99              6.113502  \n",
       "7          4.94              8.118290  \n",
       "8          2.75             10.938079  \n",
       "9          0.68             18.872655  \n",
       "10         0.34             23.537444  \n",
       "11         0.12             33.322020  \n",
       "12         0.08             38.281809  "
      ]
     },
     "execution_count": 29,
     "metadata": {},
     "output_type": "execute_result"
    }
   ],
   "source": [
    "temp = pd.merge(temp_p, temp_c, on='strike')\n",
    "temp = temp.rename(columns={'bid_x':'bid of put', 'ask_x':'ask of put', 'parity_price_x':'parity price by put',\n",
    "                            'bid_y':'bid of call', 'ask_y':'ask of call', 'parity_price_y':'parity price by call'})\n",
    "temp"
   ]
  },
  {
   "cell_type": "code",
   "execution_count": 31,
   "metadata": {},
   "outputs": [],
   "source": [
    "bp_diff = (temp['bid of put'] - temp['parity price by call']).mean()\n",
    "ap_diff = (temp['ask of put'] - temp['parity price by call']).mean()\n",
    "bc_diff = (temp['bid of call'] - temp['parity price by put']).mean()\n",
    "ac_diff = (temp['ask of call'] - temp['parity price by put']).mean()"
   ]
  },
  {
   "cell_type": "code",
   "execution_count": 32,
   "metadata": {},
   "outputs": [
    {
     "data": {
      "text/html": [
       "<div>\n",
       "<style scoped>\n",
       "    .dataframe tbody tr th:only-of-type {\n",
       "        vertical-align: middle;\n",
       "    }\n",
       "\n",
       "    .dataframe tbody tr th {\n",
       "        vertical-align: top;\n",
       "    }\n",
       "\n",
       "    .dataframe thead th {\n",
       "        text-align: right;\n",
       "    }\n",
       "</style>\n",
       "<table border=\"1\" class=\"dataframe\">\n",
       "  <thead>\n",
       "    <tr style=\"text-align: right;\">\n",
       "      <th></th>\n",
       "      <th>bid</th>\n",
       "      <th>ask</th>\n",
       "    </tr>\n",
       "  </thead>\n",
       "  <tbody>\n",
       "    <tr>\n",
       "      <th>put</th>\n",
       "      <td>0.084239</td>\n",
       "      <td>0.223470</td>\n",
       "    </tr>\n",
       "    <tr>\n",
       "      <th>call</th>\n",
       "      <td>-0.223855</td>\n",
       "      <td>-0.083855</td>\n",
       "    </tr>\n",
       "  </tbody>\n",
       "</table>\n",
       "</div>"
      ],
      "text/plain": [
       "           bid       ask\n",
       "put   0.084239  0.223470\n",
       "call -0.223855 -0.083855"
      ]
     },
     "execution_count": 32,
     "metadata": {},
     "output_type": "execute_result"
    }
   ],
   "source": [
    "pd.DataFrame({'bid': [bp_diff, bc_diff], \n",
    "              'ask': [ap_diff, ac_diff]}, index=['put', 'call'])"
   ]
  },
  {
   "cell_type": "code",
   "execution_count": 33,
   "metadata": {},
   "outputs": [],
   "source": [
    "def delta(Type, S, K, T, r, sigma):\n",
    "    d1 = (np.log(S/K) + (r+0.5*sigma**2)*T)/(sigma*np.sqrt(T))\n",
    "    if Type == 'c':\n",
    "        return norm.cdf(d1)\n",
    "    elif Type == 'd':\n",
    "        return norm.cdf(d1)-1\n",
    "    \n",
    "def gamma(S, K, T, r, sigma):\n",
    "    d1 = (np.log(S/K) + (r+0.5*sigma**2)*T)/(sigma*np.sqrt(T))\n",
    "    return norm.pdf(d1)/(S*sigma*np.sqrt(T))"
   ]
  },
  {
   "cell_type": "code",
   "execution_count": 34,
   "metadata": {},
   "outputs": [],
   "source": [
    "def prime(f, x, h=1e-4):\n",
    "    return (f(x+h) - f(x)) / h\n",
    "def dprime(f, x, h=1e-4):\n",
    "    return (prime(f,x+h) - prime(f,x)) / h"
   ]
  },
  {
   "cell_type": "code",
   "execution_count": 35,
   "metadata": {},
   "outputs": [],
   "source": [
    "def delta_approx(S, K, T, r, sigma, h=1e-4):\n",
    "    s = lambda x: BS_formula('c', x, K, T, sigma, r)\n",
    "    return prime(s, S, h)\n",
    "\n",
    "def gamma_approx(S, K, T, r, sigma, h=1e-4):\n",
    "    s = lambda x: BS_formula('c', x, K, T, sigma, r)\n",
    "    return dprime(s, S, h)\n",
    "\n",
    "def vega_approx(S, K, T, r, sigma, h=1e-4):\n",
    "    sig = lambda x: BS_formula('c', S, K, T, x, r)\n",
    "    return prime(sig, sigma, h)"
   ]
  },
  {
   "cell_type": "code",
   "execution_count": 36,
   "metadata": {},
   "outputs": [],
   "source": [
    "for i in range(2):\n",
    "    for df in DATA1[i]:\n",
    "        df['delta'] = df.apply(lambda x: \n",
    "                               delta(x.type, x.spotPrice, x.strike,\n",
    "                                              x.delta_t, r, x.bisec_Root),\n",
    "                              axis=1)\n",
    "        df['delta_approx'] = df.apply(lambda x: \n",
    "                                      delta_approx(x.spotPrice, x.strike,\n",
    "                                                   x.delta_t, r, x.bisec_Root),\n",
    "                                     axis=1)\n",
    "        df['gamma'] = df.apply(lambda x: \n",
    "                               gamma(x.spotPrice, x.strike, x.delta_t,\n",
    "                                              r, x.bisec_Root),\n",
    "                              axis=1)\n",
    "        df['gamma_approx'] = df.apply(lambda x:\n",
    "                                     gamma_approx(x.spotPrice, x.strike, \n",
    "                                                 x.delta_t, r, x.bisec_Root),\n",
    "                                     axis=1)\n",
    "        df['vega'] = df.apply(lambda x:\n",
    "                             vega(x.spotPrice, x.strike, x.delta_t,\n",
    "                                 x.bisec_Root, r), axis=1)\n",
    "        df['vega_approx'] = df.apply(lambda x:\n",
    "                                    vega_approx(x.spotPrice, x.strike, x.delta_t,\n",
    "                                               r, x.bisec_Root), axis=1)"
   ]
  },
  {
   "cell_type": "code",
   "execution_count": 37,
   "metadata": {},
   "outputs": [
    {
     "data": {
      "text/html": [
       "<div>\n",
       "<style scoped>\n",
       "    .dataframe tbody tr th:only-of-type {\n",
       "        vertical-align: middle;\n",
       "    }\n",
       "\n",
       "    .dataframe tbody tr th {\n",
       "        vertical-align: top;\n",
       "    }\n",
       "\n",
       "    .dataframe thead th {\n",
       "        text-align: right;\n",
       "    }\n",
       "</style>\n",
       "<table border=\"1\" class=\"dataframe\">\n",
       "  <thead>\n",
       "    <tr style=\"text-align: right;\">\n",
       "      <th></th>\n",
       "      <th>contractSymbol</th>\n",
       "      <th>delta</th>\n",
       "      <th>delta_approx</th>\n",
       "      <th>gamma</th>\n",
       "      <th>gamma_approx</th>\n",
       "      <th>vega</th>\n",
       "      <th>vega_approx</th>\n",
       "    </tr>\n",
       "  </thead>\n",
       "  <tbody>\n",
       "    <tr>\n",
       "      <th>0</th>\n",
       "      <td>SPY210324C00350000</td>\n",
       "      <td>0.907434</td>\n",
       "      <td>0.907434</td>\n",
       "      <td>0.004807</td>\n",
       "      <td>0.004826</td>\n",
       "      <td>16.682158</td>\n",
       "      <td>16.686146</td>\n",
       "    </tr>\n",
       "    <tr>\n",
       "      <th>1</th>\n",
       "      <td>SPY210324C00355000</td>\n",
       "      <td>0.891622</td>\n",
       "      <td>0.891622</td>\n",
       "      <td>0.005750</td>\n",
       "      <td>0.005747</td>\n",
       "      <td>18.717329</td>\n",
       "      <td>18.721471</td>\n",
       "    </tr>\n",
       "    <tr>\n",
       "      <th>2</th>\n",
       "      <td>SPY210324C00360000</td>\n",
       "      <td>0.871239</td>\n",
       "      <td>0.871240</td>\n",
       "      <td>0.006932</td>\n",
       "      <td>0.006941</td>\n",
       "      <td>21.142618</td>\n",
       "      <td>21.146808</td>\n",
       "    </tr>\n",
       "    <tr>\n",
       "      <th>3</th>\n",
       "      <td>SPY210324C00370000</td>\n",
       "      <td>0.812164</td>\n",
       "      <td>0.812165</td>\n",
       "      <td>0.010246</td>\n",
       "      <td>0.010232</td>\n",
       "      <td>27.109865</td>\n",
       "      <td>27.113625</td>\n",
       "    </tr>\n",
       "    <tr>\n",
       "      <th>4</th>\n",
       "      <td>SPY210324C00380000</td>\n",
       "      <td>0.714296</td>\n",
       "      <td>0.714297</td>\n",
       "      <td>0.015267</td>\n",
       "      <td>0.015268</td>\n",
       "      <td>34.197098</td>\n",
       "      <td>34.199324</td>\n",
       "    </tr>\n",
       "    <tr>\n",
       "      <th>5</th>\n",
       "      <td>SPY210324C00385000</td>\n",
       "      <td>0.642372</td>\n",
       "      <td>0.642373</td>\n",
       "      <td>0.018481</td>\n",
       "      <td>0.018480</td>\n",
       "      <td>37.553448</td>\n",
       "      <td>37.554517</td>\n",
       "    </tr>\n",
       "    <tr>\n",
       "      <th>6</th>\n",
       "      <td>SPY210324C00390000</td>\n",
       "      <td>0.548419</td>\n",
       "      <td>0.548420</td>\n",
       "      <td>0.021751</td>\n",
       "      <td>0.021757</td>\n",
       "      <td>39.841350</td>\n",
       "      <td>39.841450</td>\n",
       "    </tr>\n",
       "    <tr>\n",
       "      <th>7</th>\n",
       "      <td>SPY210324C00395000</td>\n",
       "      <td>0.432026</td>\n",
       "      <td>0.432027</td>\n",
       "      <td>0.023651</td>\n",
       "      <td>0.023658</td>\n",
       "      <td>39.553291</td>\n",
       "      <td>39.553729</td>\n",
       "    </tr>\n",
       "    <tr>\n",
       "      <th>8</th>\n",
       "      <td>SPY210324C00400000</td>\n",
       "      <td>0.305830</td>\n",
       "      <td>0.305831</td>\n",
       "      <td>0.022758</td>\n",
       "      <td>0.022760</td>\n",
       "      <td>35.283802</td>\n",
       "      <td>35.286999</td>\n",
       "    </tr>\n",
       "    <tr>\n",
       "      <th>9</th>\n",
       "      <td>SPY210324C00405000</td>\n",
       "      <td>0.192823</td>\n",
       "      <td>0.192824</td>\n",
       "      <td>0.018677</td>\n",
       "      <td>0.018677</td>\n",
       "      <td>27.549737</td>\n",
       "      <td>27.557155</td>\n",
       "    </tr>\n",
       "    <tr>\n",
       "      <th>10</th>\n",
       "      <td>SPY210324C00410000</td>\n",
       "      <td>0.111053</td>\n",
       "      <td>0.111053</td>\n",
       "      <td>0.013181</td>\n",
       "      <td>0.013188</td>\n",
       "      <td>19.047756</td>\n",
       "      <td>19.057996</td>\n",
       "    </tr>\n",
       "    <tr>\n",
       "      <th>11</th>\n",
       "      <td>SPY210324C00415000</td>\n",
       "      <td>0.061626</td>\n",
       "      <td>0.061627</td>\n",
       "      <td>0.008414</td>\n",
       "      <td>0.008416</td>\n",
       "      <td>12.238198</td>\n",
       "      <td>12.248554</td>\n",
       "    </tr>\n",
       "    <tr>\n",
       "      <th>12</th>\n",
       "      <td>SPY210324C00420000</td>\n",
       "      <td>0.035204</td>\n",
       "      <td>0.035204</td>\n",
       "      <td>0.005211</td>\n",
       "      <td>0.005211</td>\n",
       "      <td>7.811218</td>\n",
       "      <td>7.820033</td>\n",
       "    </tr>\n",
       "    <tr>\n",
       "      <th>13</th>\n",
       "      <td>SPY210324C00425000</td>\n",
       "      <td>0.021154</td>\n",
       "      <td>0.021154</td>\n",
       "      <td>0.003266</td>\n",
       "      <td>0.003265</td>\n",
       "      <td>5.108323</td>\n",
       "      <td>5.115272</td>\n",
       "    </tr>\n",
       "  </tbody>\n",
       "</table>\n",
       "</div>"
      ],
      "text/plain": [
       "        contractSymbol     delta  delta_approx     gamma  gamma_approx  \\\n",
       "0   SPY210324C00350000  0.907434      0.907434  0.004807      0.004826   \n",
       "1   SPY210324C00355000  0.891622      0.891622  0.005750      0.005747   \n",
       "2   SPY210324C00360000  0.871239      0.871240  0.006932      0.006941   \n",
       "3   SPY210324C00370000  0.812164      0.812165  0.010246      0.010232   \n",
       "4   SPY210324C00380000  0.714296      0.714297  0.015267      0.015268   \n",
       "5   SPY210324C00385000  0.642372      0.642373  0.018481      0.018480   \n",
       "6   SPY210324C00390000  0.548419      0.548420  0.021751      0.021757   \n",
       "7   SPY210324C00395000  0.432026      0.432027  0.023651      0.023658   \n",
       "8   SPY210324C00400000  0.305830      0.305831  0.022758      0.022760   \n",
       "9   SPY210324C00405000  0.192823      0.192824  0.018677      0.018677   \n",
       "10  SPY210324C00410000  0.111053      0.111053  0.013181      0.013188   \n",
       "11  SPY210324C00415000  0.061626      0.061627  0.008414      0.008416   \n",
       "12  SPY210324C00420000  0.035204      0.035204  0.005211      0.005211   \n",
       "13  SPY210324C00425000  0.021154      0.021154  0.003266      0.003265   \n",
       "\n",
       "         vega  vega_approx  \n",
       "0   16.682158    16.686146  \n",
       "1   18.717329    18.721471  \n",
       "2   21.142618    21.146808  \n",
       "3   27.109865    27.113625  \n",
       "4   34.197098    34.199324  \n",
       "5   37.553448    37.554517  \n",
       "6   39.841350    39.841450  \n",
       "7   39.553291    39.553729  \n",
       "8   35.283802    35.286999  \n",
       "9   27.549737    27.557155  \n",
       "10  19.047756    19.057996  \n",
       "11  12.238198    12.248554  \n",
       "12   7.811218     7.820033  \n",
       "13   5.108323     5.115272  "
      ]
     },
     "execution_count": 37,
     "metadata": {},
     "output_type": "execute_result"
    }
   ],
   "source": [
    "greeks_info = ['contractSymbol', 'delta', 'delta_approx',\n",
    "              'gamma', 'gamma_approx', 'vega', 'vega_approx']\n",
    "temp = DATA1[1][9]\n",
    "temp = temp[temp.type=='c']\n",
    "temp[greeks_info]"
   ]
  },
  {
   "cell_type": "code",
   "execution_count": 42,
   "metadata": {},
   "outputs": [],
   "source": [
    "for i in range(2):\n",
    "    for j in range(len(DATA1[i])):\n",
    "        DATA2[i][j]['vol'] = DATA1[i][j].bisec_Root\n",
    "        DATA2[i][j]['BS_price'] = DATA2[i][j].apply(lambda x: \n",
    "                                                   BS_formula(x.type, x.spotPrice,\n",
    "                                                             x.strike, x.delta_t,\n",
    "                                                             x.vol, r), axis=1)"
   ]
  },
  {
   "cell_type": "code",
   "execution_count": 48,
   "metadata": {},
   "outputs": [
    {
     "data": {
      "text/html": [
       "<div>\n",
       "<style scoped>\n",
       "    .dataframe tbody tr th:only-of-type {\n",
       "        vertical-align: middle;\n",
       "    }\n",
       "\n",
       "    .dataframe tbody tr th {\n",
       "        vertical-align: top;\n",
       "    }\n",
       "\n",
       "    .dataframe thead th {\n",
       "        text-align: right;\n",
       "    }\n",
       "</style>\n",
       "<table border=\"1\" class=\"dataframe\">\n",
       "  <thead>\n",
       "    <tr style=\"text-align: right;\">\n",
       "      <th></th>\n",
       "      <th>contractSymbol</th>\n",
       "      <th>strike</th>\n",
       "      <th>bid</th>\n",
       "      <th>ask</th>\n",
       "      <th>BS_price</th>\n",
       "    </tr>\n",
       "  </thead>\n",
       "  <tbody>\n",
       "    <tr>\n",
       "      <th>0</th>\n",
       "      <td>SPY210322C00350000</td>\n",
       "      <td>350.0</td>\n",
       "      <td>35.03</td>\n",
       "      <td>35.56</td>\n",
       "      <td>34.898590</td>\n",
       "    </tr>\n",
       "    <tr>\n",
       "      <th>1</th>\n",
       "      <td>SPY210322C00360000</td>\n",
       "      <td>360.0</td>\n",
       "      <td>26.20</td>\n",
       "      <td>26.65</td>\n",
       "      <td>25.776335</td>\n",
       "    </tr>\n",
       "    <tr>\n",
       "      <th>2</th>\n",
       "      <td>SPY210322C00370000</td>\n",
       "      <td>370.0</td>\n",
       "      <td>17.91</td>\n",
       "      <td>18.26</td>\n",
       "      <td>17.204381</td>\n",
       "    </tr>\n",
       "    <tr>\n",
       "      <th>3</th>\n",
       "      <td>SPY210322C00375000</td>\n",
       "      <td>375.0</td>\n",
       "      <td>14.19</td>\n",
       "      <td>14.32</td>\n",
       "      <td>13.244011</td>\n",
       "    </tr>\n",
       "    <tr>\n",
       "      <th>4</th>\n",
       "      <td>SPY210322C00380000</td>\n",
       "      <td>380.0</td>\n",
       "      <td>10.60</td>\n",
       "      <td>10.72</td>\n",
       "      <td>9.597364</td>\n",
       "    </tr>\n",
       "  </tbody>\n",
       "</table>\n",
       "</div>"
      ],
      "text/plain": [
       "       contractSymbol  strike    bid    ask   BS_price\n",
       "0  SPY210322C00350000   350.0  35.03  35.56  34.898590\n",
       "1  SPY210322C00360000   360.0  26.20  26.65  25.776335\n",
       "2  SPY210322C00370000   370.0  17.91  18.26  17.204381\n",
       "3  SPY210322C00375000   375.0  14.19  14.32  13.244011\n",
       "4  SPY210322C00380000   380.0  10.60  10.72   9.597364"
      ]
     },
     "execution_count": 48,
     "metadata": {},
     "output_type": "execute_result"
    }
   ],
   "source": [
    "info = ['contractSymbol', 'strike', 'bid', 'ask', 'BS_price']\n",
    "DATA2[1][8][info].head()"
   ]
  },
  {
   "cell_type": "code",
   "execution_count": 49,
   "metadata": {},
   "outputs": [
    {
     "data": {
      "text/html": [
       "<div>\n",
       "<style scoped>\n",
       "    .dataframe tbody tr th:only-of-type {\n",
       "        vertical-align: middle;\n",
       "    }\n",
       "\n",
       "    .dataframe tbody tr th {\n",
       "        vertical-align: top;\n",
       "    }\n",
       "\n",
       "    .dataframe thead th {\n",
       "        text-align: right;\n",
       "    }\n",
       "</style>\n",
       "<table border=\"1\" class=\"dataframe\">\n",
       "  <thead>\n",
       "    <tr style=\"text-align: right;\">\n",
       "      <th></th>\n",
       "      <th>contractSymbol</th>\n",
       "      <th>strike</th>\n",
       "      <th>bid</th>\n",
       "      <th>ask</th>\n",
       "      <th>BS_price</th>\n",
       "    </tr>\n",
       "  </thead>\n",
       "  <tbody>\n",
       "    <tr>\n",
       "      <th>28</th>\n",
       "      <td>SPY210322P00400000</td>\n",
       "      <td>400.0</td>\n",
       "      <td>18.88</td>\n",
       "      <td>20.14</td>\n",
       "      <td>18.731014</td>\n",
       "    </tr>\n",
       "    <tr>\n",
       "      <th>29</th>\n",
       "      <td>SPY210322P00410000</td>\n",
       "      <td>410.0</td>\n",
       "      <td>27.77</td>\n",
       "      <td>29.23</td>\n",
       "      <td>28.003716</td>\n",
       "    </tr>\n",
       "    <tr>\n",
       "      <th>30</th>\n",
       "      <td>SPY210322P00415000</td>\n",
       "      <td>415.0</td>\n",
       "      <td>32.66</td>\n",
       "      <td>34.10</td>\n",
       "      <td>32.933919</td>\n",
       "    </tr>\n",
       "    <tr>\n",
       "      <th>31</th>\n",
       "      <td>SPY210322P00425000</td>\n",
       "      <td>425.0</td>\n",
       "      <td>42.60</td>\n",
       "      <td>44.01</td>\n",
       "      <td>42.913037</td>\n",
       "    </tr>\n",
       "    <tr>\n",
       "      <th>32</th>\n",
       "      <td>SPY210322P00430000</td>\n",
       "      <td>430.0</td>\n",
       "      <td>47.59</td>\n",
       "      <td>49.00</td>\n",
       "      <td>47.918261</td>\n",
       "    </tr>\n",
       "  </tbody>\n",
       "</table>\n",
       "</div>"
      ],
      "text/plain": [
       "        contractSymbol  strike    bid    ask   BS_price\n",
       "28  SPY210322P00400000   400.0  18.88  20.14  18.731014\n",
       "29  SPY210322P00410000   410.0  27.77  29.23  28.003716\n",
       "30  SPY210322P00415000   415.0  32.66  34.10  32.933919\n",
       "31  SPY210322P00425000   425.0  42.60  44.01  42.913037\n",
       "32  SPY210322P00430000   430.0  47.59  49.00  47.918261"
      ]
     },
     "execution_count": 49,
     "metadata": {},
     "output_type": "execute_result"
    }
   ],
   "source": [
    "DATA2[1][8][info].tail()"
   ]
  },
  {
   "cell_type": "code",
   "execution_count": 100,
   "metadata": {},
   "outputs": [],
   "source": [
    "temp1 = DATA1[1][5]\n",
    "temp2 = DATA1[1][8]\n",
    "temp3 = DATA1[1][10]"
   ]
  },
  {
   "cell_type": "code",
   "execution_count": 101,
   "metadata": {},
   "outputs": [],
   "source": [
    "temp1 = temp1[temp1.type == 'c']\n",
    "temp2 = temp2[temp2.type == 'c']\n",
    "temp3 = temp3[temp3.type == 'c']"
   ]
  },
  {
   "cell_type": "code",
   "execution_count": 102,
   "metadata": {},
   "outputs": [],
   "source": [
    "exp = [temp1.expiry.iloc[0], temp2.expiry.iloc[0], temp3.expiry.iloc[0]]\n",
    "strike1 = temp1.strike\n",
    "strike2 = temp2.strike\n",
    "strike3 = temp3.strike\n",
    "vol1 = temp1.bisec_Root\n",
    "vol2 = temp2.bisec_Root\n",
    "vol3 = temp3.bisec_Root"
   ]
  },
  {
   "cell_type": "code",
   "execution_count": 113,
   "metadata": {},
   "outputs": [
    {
     "data": {
      "text/plain": [
       "<matplotlib.legend.Legend at 0x7ffcb8534fa0>"
      ]
     },
     "execution_count": 113,
     "metadata": {},
     "output_type": "execute_result"
    },
    {
     "data": {
      "image/png": "[encoded data removed]",
      "text/plain": [
       "<Figure size 432x288 with 1 Axes>"
      ]
     },
     "metadata": {
      "needs_background": "light"
     },
     "output_type": "display_data"
    }
   ],
   "source": [
    "plt.figure(1)\n",
    "plt.plot(strike1, vol1, label=exp[0].date())\n",
    "plt.plot(strike2, vol2, label=exp[1].date())\n",
    "plt.plot(strike3, vol3, label=exp[2].date())\n",
    "plt.xlabel('strike')\n",
    "plt.ylabel('vol')\n",
    "plt.title(\"SPY call options volatility\")\n",
    "plt.legend()"
   ]
  },
  {
   "cell_type": "code",
   "execution_count": 256,
   "metadata": {},
   "outputs": [],
   "source": [
    "from mpl_toolkits import mplot3d\n",
    "\n",
    "info = ['strike', 'bisec_Root']\n",
    "delta_T = ['strike', 1]\n",
    "new_df = DATA1[1][0][info]\n",
    "for df in DATA1[1]:\n",
    "    delta_T.append(df['delta_t'].iloc[0]*365)\n",
    "    call_df = df[df.type == 'c']\n",
    "    new_df = pd.merge(new_df, call_df[info], on='strike', how='outer')\n",
    "    new_df.columns = delta_T"
   ]
  },
  {
   "cell_type": "code",
   "execution_count": 257,
   "metadata": {},
   "outputs": [],
   "source": [
    "new_df = new_df.set_index('strike')\n",
    "new_df = new_df.drop(new_df.columns[0:4], axis=1)\n",
    "new_df = new_df.dropna()"
   ]
  },
  {
   "cell_type": "code",
   "execution_count": 279,
   "metadata": {},
   "outputs": [
    {
     "data": {
      "image/png": "[encoded data removed]",
      "text/plain": [
       "<Figure size 432x288 with 1 Axes>"
      ]
     },
     "metadata": {
      "needs_background": "light"
     },
     "output_type": "display_data"
    }
   ],
   "source": [
    "import matplotlib as mpl\n",
    "import matplotlib.pyplot as plt\n",
    "from mpl_toolkits.mplot3d import Axes3D\n",
    "from matplotlib import cm\n",
    "x = new_df.columns\n",
    "y = new_df.index\n",
    "X,Y = np.meshgrid(x,y)\n",
    "Z = new_df\n",
    "fig = plt.figure()\n",
    "ax = fig.add_subplot(111, projection='3d')\n",
    "surf = ax.plot_surface(Y,X,Z, cmap=cm.coolwarm,\n",
    "                       linewidth=0, antialiased=False)\n",
    "ax.set_title('Implied volatility surface')\n",
    "ax.set_ylabel('time to maturity')\n",
    "ax.set_xlabel('strike')\n",
    "ax.set_zlabel('volatility')\n",
    "plt.show()"
   ]
  },
  {
   "cell_type": "code",
   "execution_count": 50,
   "metadata": {},
   "outputs": [],
   "source": [
    "import numpy as np\n",
    "import matplotlib.pyplot as plt\n",
    "\n",
    "\n",
    "def f(x):\n",
    "    if x == 0:\n",
    "        return 1\n",
    "    else:\n",
    "        return np.sin(x) / x\n",
    "\n",
    "\n",
    "def trapezoidal(f, a, b, N=1000000):\n",
    "    x = np.linspace(a, b, N + 1)\n",
    "    g = np.vectorize(f)\n",
    "    return (b - a) / N * (np.sum(g(x)) - f(a) / 2 - f(b) / 2)\n",
    "\n",
    "\n",
    "def simpson(f, a, b, N=1000000):\n",
    "    x = np.linspace(a, b, N + 1)\n",
    "    g = np.vectorize(f)\n",
    "    h = (b - a) / N\n",
    "    return h / 3 * (g(a) + np.sum(g(x[1:-1:2])) * 4\n",
    "                    + np.sum(g(x[2:-1:2])) * 2 + g(b))"
   ]
  },
  {
   "cell_type": "code",
   "execution_count": 51,
   "metadata": {},
   "outputs": [
    {
     "name": "stdout",
     "output_type": "stream",
     "text": [
      "3.1415914506275344\n",
      "3.141590478023401\n"
     ]
    }
   ],
   "source": [
    "print(trapezoidal(f, -1e6, 1e6, 1000000))\n",
    "print(simpson(f, -1e6, 1e6, 1000000))"
   ]
  },
  {
   "cell_type": "code",
   "execution_count": 52,
   "metadata": {},
   "outputs": [],
   "source": [
    "def trap_trunc(a=1e5, N=100000):\n",
    "    return abs(trapezoidal(f, -a, a, N) - np.pi)\n",
    "\n",
    "\n",
    "def simp_trunc(a=1e5, N=100000):\n",
    "    return abs(simpson(f, -a, a, N) - np.pi)\n",
    "\n",
    "\n",
    "def diff(a=1e5, N=100000):\n",
    "    return trapezoidal(f, -a, a, N) - simpson(f, -a, a, N)"
   ]
  },
  {
   "cell_type": "code",
   "execution_count": 53,
   "metadata": {},
   "outputs": [],
   "source": [
    "# a is fixed, N increases\n",
    "N = np.arange(50, 10000, 50)\n",
    "error_t1 = [trap_trunc(N=i) for i in N]\n",
    "error_s1 = [simp_trunc(N=i) for i in N]\n",
    "diff1 = [diff(N=i) for i in N]\n",
    "\n",
    "# N is fixed, a increases\n",
    "a = np.arange(50, 10000, 50)\n",
    "error_t2 = [trap_trunc(a=i) for i in a]\n",
    "error_s2 = [simp_trunc(a=i) for i in a]\n",
    "diff2 = [diff(a=i) for i in a]"
   ]
  },
  {
   "cell_type": "code",
   "execution_count": 60,
   "metadata": {},
   "outputs": [
    {
     "data": {
      "image/png": "[encoded data removed]",
      "text/plain": [
       "<Figure size 432x288 with 4 Axes>"
      ]
     },
     "metadata": {
      "needs_background": "light"
     },
     "output_type": "display_data"
    }
   ],
   "source": [
    "# error plots\n",
    "t1 = plt.subplot(2, 2, 1)\n",
    "plt.plot(N,error_t1)\n",
    "plt.title(\"a fixed, trapezoidal's error\")\n",
    "plt.ylabel('error')\n",
    "t2 = plt.subplot(2, 2, 2)\n",
    "plt.plot(a, error_t2)\n",
    "plt.title(\"N fixed, trapezoidal's error\")\n",
    "plt.ylabel('error')\n",
    "\n",
    "s1 = plt.subplot(2, 2, 3)\n",
    "plt.plot(N, error_s1)\n",
    "plt.title(\"a fixed, simpson's error\", y=-0.35)\n",
    "plt.ylabel('error')\n",
    "s2 = plt.subplot(2, 2, 4)\n",
    "plt.plot(N, error_s2)\n",
    "plt.title(\"N fixed, simpson's error\", y=-0.35)\n",
    "plt.ylabel('error')\n",
    "plt.show()"
   ]
  },
  {
   "cell_type": "code",
   "execution_count": 62,
   "metadata": {},
   "outputs": [],
   "source": [
    "def integral(f, a, b, tol=1e-4, rule=trapezoidal):\n",
    "    step = 10\n",
    "    I_k = rule(f, a, b, step)\n",
    "    I_k1 = rule(f, a, b, step+1)\n",
    "    while abs(I_k - I_k1) >= tol:\n",
    "        step += 1\n",
    "        I_k = I_k1\n",
    "        I_k1 = rule(f, a, b, step+1)\n",
    "    return I_k1, step"
   ]
  },
  {
   "cell_type": "code",
   "execution_count": 63,
   "metadata": {},
   "outputs": [],
   "source": [
    "res1, step1 = integral(f, -1e4, 1e4)\n",
    "res2, step2 = integral(f, -1e4, 1e4, rule=simpson)"
   ]
  },
  {
   "cell_type": "code",
   "execution_count": 64,
   "metadata": {},
   "outputs": [
    {
     "name": "stdout",
     "output_type": "stream",
     "text": [
      "The value using trapezoidal is 3.1339351253458694, and take 3261 steps\n",
      "The value using simpson is 3.1417268346231753, and take 9398 steps\n"
     ]
    }
   ],
   "source": [
    "print(\"The value using trapezoidal is {0}, and take {1} steps\".format(res1, step1))\n",
    "print(\"The value using simpson is {0}, and take {1} steps\".format(res2, step2))"
   ]
  },
  {
   "cell_type": "code",
   "execution_count": 69,
   "metadata": {},
   "outputs": [],
   "source": [
    "g = lambda x: 1 + np.exp(-x**2)*np.sin(8*x**(2/3))\n",
    "\n",
    "res3, step3 = integral(g, 0, 2)\n",
    "res4, step4 = integral(g, 0, 2, rule=simpson)"
   ]
  },
  {
   "cell_type": "code",
   "execution_count": 70,
   "metadata": {},
   "outputs": [
    {
     "name": "stdout",
     "output_type": "stream",
     "text": [
      "The value using trapezoidal is 2.0337775786407293, and take 64 steps\n",
      "The value using simpson is 2.037422756355833, and take 6682 steps\n"
     ]
    }
   ],
   "source": [
    "print(\"The value using trapezoidal is {0}, and take {1} steps\".format(res3, step3))\n",
    "print(\"The value using simpson is {0}, and take {1} steps\".format(res4, step4))"
   ]
  },
  {
   "cell_type": "code",
   "execution_count": null,
   "metadata": {},
   "outputs": [],
   "source": []
  }
 ],
 "metadata": {
  "kernelspec": {
   "display_name": "Python 3",
   "language": "python",
   "name": "python3"
  },
  "language_info": {
   "codemirror_mode": {
    "name": "ipython",
    "version": 3
   },
   "file_extension": ".py",
   "mimetype": "text/x-python",
   "name": "python",
   "nbconvert_exporter": "python",
   "pygments_lexer": "ipython3",
   "version": "3.8.3"
  }
 },
 "nbformat": 4,
 "nbformat_minor": 4
}
